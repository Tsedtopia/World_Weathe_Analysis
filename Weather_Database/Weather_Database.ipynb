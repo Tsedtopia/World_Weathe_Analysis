{
 "cells": [
  {
   "cell_type": "code",
   "execution_count": 48,
   "metadata": {},
   "outputs": [],
   "source": [
    "# Import the dependencies.\n",
    "import pandas as pd\n",
    "import matplotlib.pyplot as plt\n",
    "import numpy as np\n",
    "from citipy import citipy\n",
    "from scipy import stats\n",
    "\n",
    "# Import the requests library.\n",
    "import requests\n",
    "\n",
    "# Import the API key.\n",
    "weather_api_key=\"3c1b65be65c2737e746437ba1260c1e7\"\n",
    "\n",
    "# Import the datetime module from the datetime library.\n",
    "from datetime import datetime"
   ]
  },
  {
   "cell_type": "code",
   "execution_count": 50,
   "metadata": {},
   "outputs": [
    {
     "data": {
      "text/plain": [
       "[(42.9943567859668, -24.632037841476944),\n",
       " (65.53159013742803, -6.562017389107979),\n",
       " (57.300587001898805, -144.94510462723633),\n",
       " (51.64478822162761, -76.62162016574268),\n",
       " (-42.45800828821773, -13.848019329810228),\n",
       " (8.555980688698085, -125.95796626923658),\n",
       " (7.248299236485678, 175.4385381513523),\n",
       " (50.09570524352907, -48.69460200550512),\n",
       " (-55.83213662322242, -31.411080565935833),\n",
       " (-62.17791276124555, -42.51976217104493),\n",
       " (-54.79625260354359, 19.67082280949947),\n",
       " (-64.41207659463251, 1.7325963289331128),\n",
       " (31.779972103100548, 99.34394590902173),\n",
       " (-62.19027881569549, 11.268508902391147),\n",
       " (60.87265652849328, 158.80989527425493),\n",
       " (80.74925495740789, -81.50315473096617),\n",
       " (79.30476421687425, 19.843934758417703),\n",
       " (-40.894890610421314, 4.494607950320898),\n",
       " (24.164540434630553, 89.9473861584433),\n",
       " (-7.217644941976317, 100.48574112687191),\n",
       " (40.669918363015256, 53.182236963559745),\n",
       " (-24.85643186313054, -114.14320358789767),\n",
       " (67.58385386719948, -8.925904198517458),\n",
       " (74.68259319893161, -177.39911009541714),\n",
       " (-62.85355065965699, -154.8031416198082),\n",
       " (1.841303506208689, -162.0023480616793),\n",
       " (-9.919212714135341, 135.32303519536168),\n",
       " (-71.79122198886279, -173.91430857309925),\n",
       " (11.041957022000162, 53.89848372349144),\n",
       " (-27.407153047187016, 85.25825392912458),\n",
       " (28.606019475645752, 32.17878369609355),\n",
       " (-89.85301210356079, 154.39986607961077),\n",
       " (-57.566822828383195, -79.51190027975238),\n",
       " (31.6888623011575, -168.045978610137),\n",
       " (3.384988594166458, -167.4191442436992),\n",
       " (31.25674582795618, -153.49547955184113),\n",
       " (-68.18125917941092, -115.58925410620301),\n",
       " (88.1518684759424, 48.530716500910216),\n",
       " (89.64737858936408, -137.71147375384322),\n",
       " (-7.429446599993952, -133.22889240158128),\n",
       " (13.258592617572859, 163.6969653513957),\n",
       " (-74.11156705350864, 54.265653277614945),\n",
       " (-36.01878247552295, 77.7779779059436),\n",
       " (4.250451148691496, -116.36461181053984),\n",
       " (69.98155128006545, -61.21193968692924),\n",
       " (33.94935564310441, 138.68706874187222),\n",
       " (12.323911384160397, -173.4952420538078),\n",
       " (86.70657028055805, 111.05529157579713),\n",
       " (74.66629193340157, -44.603610746369554),\n",
       " (-16.84838215414453, 5.764053601628291),\n",
       " (-37.55445413620908, 122.93726138154517),\n",
       " (60.979283275119485, 6.946098380842727),\n",
       " (86.54548412571063, -141.8010807692167),\n",
       " (70.73828162360755, -81.7607417498725),\n",
       " (-81.77258504770194, -80.42660101876362),\n",
       " (-75.11368785276608, -167.80594028977248),\n",
       " (-74.5531979739119, 136.711568403118),\n",
       " (61.32443864767632, 120.34199105398818),\n",
       " (41.44062649712694, -73.05648928263831),\n",
       " (2.1498562814639683, 133.7236446464957),\n",
       " (64.71787838367342, 117.13131890517644),\n",
       " (1.2489817659632934, -71.93052536166147),\n",
       " (54.5671321298926, 71.58681916989963),\n",
       " (22.426362122503974, -30.06854433732991),\n",
       " (18.482404290859122, 153.24933524132774),\n",
       " (3.0357213205827236, -131.6928062076249),\n",
       " (-43.90748065540541, -91.17161880417918),\n",
       " (65.45838451986879, 174.60669617941937),\n",
       " (-35.942762709013735, -10.284453449935938),\n",
       " (66.26443685378362, -11.551338369967254),\n",
       " (-61.45305129862664, 120.74414001853592),\n",
       " (43.54466520581062, -108.52906701305335),\n",
       " (84.84955968563835, 60.60504317695711),\n",
       " (-39.59686703894869, -138.40925855061352),\n",
       " (83.82770034728486, -109.41348560146672),\n",
       " (82.28953906317332, -178.894240522594),\n",
       " (83.05251471726842, -83.31388579717004),\n",
       " (28.86081268460923, 8.070171678645607),\n",
       " (-48.11187800391941, 91.99489511105764),\n",
       " (-45.907737234034386, -160.6499249840968),\n",
       " (-65.68373372188611, 162.27142899384216),\n",
       " (-86.68951759686544, 173.38150478618059),\n",
       " (-85.11487810783609, 105.86634368270018),\n",
       " (6.238105231287577, -152.45018010289405),\n",
       " (-9.153651718681317, 149.79210982741193),\n",
       " (23.685949713219316, 137.88947076965513),\n",
       " (-58.64228016633787, 33.312939603291824),\n",
       " (59.637408550846345, -121.17955150389722),\n",
       " (-36.22727660020334, -16.766400608853928),\n",
       " (-25.627481049393026, -156.1751611983522),\n",
       " (-27.34211820013293, -120.3590408086262),\n",
       " (-22.758517301208684, 102.25036526938635),\n",
       " (-37.357039276892564, 166.04475514189926),\n",
       " (35.02009408010905, 74.84209177854717),\n",
       " (57.66877522559656, 42.168996856430965),\n",
       " (16.70796822636818, -143.2331121172875),\n",
       " (-26.258102806028468, 72.76941021476054),\n",
       " (-26.06177247904386, 45.599607648928384),\n",
       " (-46.450305136877134, 77.43811418221031),\n",
       " (8.573975981491486, -143.08104249957114)]"
      ]
     },
     "execution_count": 50,
     "metadata": {},
     "output_type": "execute_result"
    }
   ],
   "source": [
    "# Create set of 2,000 latitudes and longitudes\n",
    "lats = np.random.uniform(low=-90, high=90, size=100)\n",
    "lngs = np.random.uniform(low=-180, high=180, size=100)\n",
    "# Zip both lists and extract to a list of coordinates\n",
    "lat_lngs = list(zip(lats,lngs))\n",
    "lat_lngs"
   ]
  },
  {
   "cell_type": "code",
   "execution_count": 53,
   "metadata": {},
   "outputs": [],
   "source": [
    "# Create a set of random latitude and longitude combinations.\n",
    "x = [25.12903645, 25.92017388, 26.62509167, -59.98969384, 37.30571269]\n",
    "y = [-67.59741259, 11.09532135, 74.84233102, -76.89176677, -61.13376282]\n",
    "lat_lngs = list (zip (x, y))"
   ]
  },
  {
   "cell_type": "code",
   "execution_count": 54,
   "metadata": {},
   "outputs": [
    {
     "name": "stdout",
     "output_type": "stream",
     "text": [
      "25.12903645 -67.59741259\n",
      "25.92017388 11.09532135\n",
      "26.62509167 74.84233102\n",
      "-59.98969384 -76.89176677\n",
      "37.30571269 -61.13376282\n"
     ]
    }
   ],
   "source": [
    "# Use the tuple() function to display the latitude and longitude combinations.\n",
    "for coordinate in coordinates:\n",
    "    print(coordinate[0], coordinate[1])"
   ]
  },
  {
   "cell_type": "code",
   "execution_count": 55,
   "metadata": {},
   "outputs": [
    {
     "name": "stdout",
     "output_type": "stream",
     "text": [
      "cockburn town tc\n",
      "gat ly\n",
      "parvatsar in\n",
      "punta arenas cl\n",
      "saint george bm\n"
     ]
    }
   ],
   "source": [
    "# Use the tuple() function to display the latitude and longitude combinations.\n",
    "#print (\"test\")\n",
    "for coordinate in coordinates:\n",
    "    print(citipy.nearest_city(coordinate[0], coordinate[1]).city_name,\n",
    "          citipy.nearest_city(coordinate[0], coordinate[1]).country_code)"
   ]
  },
  {
   "cell_type": "code",
   "execution_count": 25,
   "metadata": {},
   "outputs": [
    {
     "data": {
      "text/plain": [
       "0.492461426147193"
      ]
     },
     "execution_count": 25,
     "metadata": {},
     "output_type": "execute_result"
    }
   ],
   "source": [
    "np.random.uniform()"
   ]
  },
  {
   "cell_type": "code",
   "execution_count": 62,
   "metadata": {},
   "outputs": [
    {
     "data": {
      "text/plain": [
       "5"
      ]
     },
     "execution_count": 62,
     "metadata": {},
     "output_type": "execute_result"
    }
   ],
   "source": [
    "# Create a list for holding the cities.\n",
    "cities = []\n",
    "# Identify the nearest city for each latitude and longitude combination.\n",
    "for lat_lng in lat_lngs:\n",
    "    city = citipy.nearest_city(lat_lng[0], lat_lng[1]).city_name\n",
    "\n",
    "    # If the city is unique, then we will add it to the cities list.\n",
    "    if city not in cities:\n",
    "        cities.append(city)\n",
    "# Print the city count to confirm sufficient count.\n",
    "len(cities)\n",
    "#print (cities)"
   ]
  },
  {
   "cell_type": "code",
   "execution_count": 71,
   "metadata": {},
   "outputs": [
    {
     "name": "stdout",
     "output_type": "stream",
     "text": [
      "http://api.openweathermap.org/data/2.5/weather?units=Imperial&APPID=3c1b65be65c2737e746437ba1260c1e7\n"
     ]
    }
   ],
   "source": [
    "# Starting URL for Weather Map API Call.\n",
    "url = \"http://api.openweathermap.org/data/2.5/weather?units=Imperial&APPID=\" + weather_api_key \n",
    "print(url)"
   ]
  },
  {
   "cell_type": "code",
   "execution_count": 81,
   "metadata": {},
   "outputs": [
    {
     "name": "stdout",
     "output_type": "stream",
     "text": [
      "City not found. Skipping...\n",
      "-----------------------------\n",
      "Data Retrieval Complete      \n",
      "-----------------------------\n"
     ]
    }
   ],
   "source": [
    "# Run an API request for each of the cities.\n",
    "try:\n",
    "            # Parse the JSON and retrieve data.\n",
    "        city_weather = requests.get(city_url).json()\n",
    "        # Parse out the needed data.\n",
    "        city_lat = city_weather[\"coord\"][\"lat\"]\n",
    "        city_lng = city_weather[\"coord\"][\"lon\"]\n",
    "        city_max_temp = city_weather[\"main\"][\"temp_max\"]\n",
    "        city_humidity = city_weather[\"main\"][\"humidity\"]\n",
    "        city_clouds = city_weather[\"clouds\"][\"all\"]\n",
    "        city_wind = city_weather[\"wind\"][\"speed\"]\n",
    "        city_country = city_weather[\"sys\"][\"country\"]\n",
    "        city_desc = city_weather[\"weather\"][0][\"description\"]\n",
    "        # Convert the date to ISO standard.\n",
    "        city_date = datetime.utcfromtimestamp(city_weather[\"dt\"]).strftime('%Y-%m-%d %H:%M:%S')\n",
    "        # Append the city information into city_data list.\n",
    "        city_data.append({\"City\": city.title(),\n",
    "                          \"Lat\": city_lat,\n",
    "                          \"Lng\": city_lng,\n",
    "                          \"Max Temp\": city_max_temp,\n",
    "                          \"Humidity\": city_humidity,\n",
    "                          \"Cloudiness\": city_clouds,\n",
    "                          \"Wind Speed\": city_wind,\n",
    "                          \"Country\": city_country,\n",
    "                          \"Date\": city_date})\n",
    "\n",
    "    # If an error is experienced, skip the city.\n",
    "except:\n",
    "        print(\"City not found. Skipping...\")\n",
    "        pass\n",
    "\n",
    "# Indicate that Data Loading is complete.\n",
    "print(\"-----------------------------\")\n",
    "print(\"Data Retrieval Complete      \")\n",
    "print(\"-----------------------------\")"
   ]
  },
  {
   "cell_type": "code",
   "execution_count": 75,
   "metadata": {},
   "outputs": [],
   "source": [
    "city_data = []"
   ]
  },
  {
   "cell_type": "code",
   "execution_count": 76,
   "metadata": {},
   "outputs": [
    {
     "data": {
      "text/html": [
       "<div>\n",
       "<style scoped>\n",
       "    .dataframe tbody tr th:only-of-type {\n",
       "        vertical-align: middle;\n",
       "    }\n",
       "\n",
       "    .dataframe tbody tr th {\n",
       "        vertical-align: top;\n",
       "    }\n",
       "\n",
       "    .dataframe thead th {\n",
       "        text-align: right;\n",
       "    }\n",
       "</style>\n",
       "<table border=\"1\" class=\"dataframe\">\n",
       "  <thead>\n",
       "    <tr style=\"text-align: right;\">\n",
       "      <th></th>\n",
       "    </tr>\n",
       "  </thead>\n",
       "  <tbody>\n",
       "  </tbody>\n",
       "</table>\n",
       "</div>"
      ],
      "text/plain": [
       "Empty DataFrame\n",
       "Columns: []\n",
       "Index: []"
      ]
     },
     "execution_count": 76,
     "metadata": {},
     "output_type": "execute_result"
    }
   ],
   "source": [
    "# Convert the array of dictionaries to a Pandas DataFrame.\n",
    "city_data_df = pd.DataFrame(city_data)\n",
    "city_data_df.head(10)"
   ]
  },
  {
   "cell_type": "code",
   "execution_count": 77,
   "metadata": {},
   "outputs": [],
   "source": [
    "## Deliverable 2"
   ]
  },
  {
   "cell_type": "code",
   "execution_count": 63,
   "metadata": {},
   "outputs": [],
   "source": [
    "weather_response = requests.get(url)\n",
    "weather_json = weather_response.json()"
   ]
  },
  {
   "cell_type": "code",
   "execution_count": 64,
   "metadata": {},
   "outputs": [
    {
     "data": {
      "text/plain": [
       "dict_keys(['cod', 'message'])"
      ]
     },
     "execution_count": 64,
     "metadata": {},
     "output_type": "execute_result"
    }
   ],
   "source": [
    "weather_json.keys()"
   ]
  },
  {
   "cell_type": "code",
   "execution_count": 65,
   "metadata": {},
   "outputs": [
    {
     "name": "stdout",
     "output_type": "stream",
     "text": [
      "{'cod': '400', 'message': 'Nothing to geocode'}\n"
     ]
    }
   ],
   "source": [
    "weather_json.get(\"main\")\n",
    "print (weather_json)"
   ]
  },
  {
   "cell_type": "code",
   "execution_count": 46,
   "metadata": {},
   "outputs": [],
   "source": [
    "# list city weather list\n",
    "weather_json = []"
   ]
  },
  {
   "cell_type": "code",
   "execution_count": 47,
   "metadata": {},
   "outputs": [
    {
     "ename": "SyntaxError",
     "evalue": "cannot assign to operator (<ipython-input-47-884d03ec8647>, line 3)",
     "output_type": "error",
     "traceback": [
      "\u001b[1;36m  File \u001b[1;32m\"<ipython-input-47-884d03ec8647>\"\u001b[1;36m, line \u001b[1;32m3\u001b[0m\n\u001b[1;33m    city_url = city_url + \"&q\" = + \"Boston\"\u001b[0m\n\u001b[1;37m               ^\u001b[0m\n\u001b[1;31mSyntaxError\u001b[0m\u001b[1;31m:\u001b[0m cannot assign to operator\n"
     ]
    }
   ],
   "source": [
    "# Create an endpoint URL for a city.\n",
    "city_url = []\n",
    "city_url = city_url + \"&q\" = + \"Boston\"\n",
    "for city in cities:\n",
    "    city_weather = requests.get(city_url + city)\n",
    "    if city_weather.status_code == 200:\n",
    "        weather_json.append(city_weather.json())\n",
    "        print(f\"City Weather found.\")\n",
    "    else:\n",
    "        print(f\"City weather not found.\")        \n",
    "    #city_weather\n",
    "    print (city_url + city) "
   ]
  },
  {
   "cell_type": "code",
   "execution_count": 28,
   "metadata": {},
   "outputs": [
    {
     "name": "stdout",
     "output_type": "stream",
     "text": [
      "[]\n"
     ]
    }
   ],
   "source": [
    "print (weather_json)"
   ]
  },
  {
   "cell_type": "code",
   "execution_count": 32,
   "metadata": {},
   "outputs": [
    {
     "ename": "NameError",
     "evalue": "name 'city_weather' is not defined",
     "output_type": "error",
     "traceback": [
      "\u001b[1;31m---------------------------------------------------------------------------\u001b[0m",
      "\u001b[1;31mNameError\u001b[0m                                 Traceback (most recent call last)",
      "\u001b[1;32m<ipython-input-32-b9dd2374cf20>\u001b[0m in \u001b[0;36m<module>\u001b[1;34m\u001b[0m\n\u001b[0;32m      1\u001b[0m \u001b[1;31m# Get the JSON data.\u001b[0m\u001b[1;33m\u001b[0m\u001b[1;33m\u001b[0m\u001b[1;33m\u001b[0m\u001b[0m\n\u001b[1;32m----> 2\u001b[1;33m \u001b[0mweather_quality_data\u001b[0m \u001b[1;33m=\u001b[0m \u001b[0mcity_weather\u001b[0m\u001b[1;33m.\u001b[0m\u001b[0mjson\u001b[0m\u001b[1;33m(\u001b[0m\u001b[1;33m)\u001b[0m\u001b[1;33m\u001b[0m\u001b[1;33m\u001b[0m\u001b[0m\n\u001b[0m",
      "\u001b[1;31mNameError\u001b[0m: name 'city_weather' is not defined"
     ]
    }
   ],
   "source": [
    "# Get the JSON data.\n",
    "weather_quality_data = city_weather.json()"
   ]
  },
  {
   "cell_type": "code",
   "execution_count": null,
   "metadata": {},
   "outputs": [],
   "source": [
    "### Deliverable 2"
   ]
  },
  {
   "cell_type": "code",
   "execution_count": null,
   "metadata": {},
   "outputs": [],
   "source": []
  }
 ],
 "metadata": {
  "kernelspec": {
   "display_name": "Python 3",
   "language": "python",
   "name": "python3"
  },
  "language_info": {
   "codemirror_mode": {
    "name": "ipython",
    "version": 3
   },
   "file_extension": ".py",
   "mimetype": "text/x-python",
   "name": "python",
   "nbconvert_exporter": "python",
   "pygments_lexer": "ipython3",
   "version": "3.8.5"
  }
 },
 "nbformat": 4,
 "nbformat_minor": 4
}
